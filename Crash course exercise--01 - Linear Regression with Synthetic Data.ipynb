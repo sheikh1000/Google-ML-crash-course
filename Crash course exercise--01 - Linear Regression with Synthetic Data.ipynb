{
 "cells": [
  {
   "cell_type": "code",
   "execution_count": 1,
   "id": "4956e8c9",
   "metadata": {},
   "outputs": [],
   "source": [
    "import numpy as np\n",
    "import pandas as pd\n",
    "from matplotlib import pyplot as plt\n",
    "\n",
    "import torch\n",
    "import torch.nn as nn\n",
    "import torch.optim as optim"
   ]
  },
  {
   "cell_type": "markdown",
   "id": "6a2ff769",
   "metadata": {},
   "source": [
    "> ### Plotting functions"
   ]
  },
  {
   "cell_type": "code",
   "execution_count": 121,
   "id": "84374643",
   "metadata": {},
   "outputs": [],
   "source": [
    "def plot_the_model(trained_weight, trained_bias, feature, label):\n",
    "    plt.xlabel(\"feature\")\n",
    "    plt.ylabel(\"label\")\n",
    "    \n",
    "    plt.scatter(feature, label)\n",
    "\n",
    "    x0 = 0\n",
    "    y0 = trained_bias\n",
    "    \n",
    "    x1 = feature[-1]\n",
    "    y1 = trained_bias + (trained_weight * x1)\n",
    "    \n",
    "    plt.plot([x0, x1], [y0, y1], c='r')\n",
    "\n",
    "    plt.show()\n",
    "\n",
    "def plot_the_loss_curve(epochs, rmse):\n",
    "    plt.figure()\n",
    "    plt.xlabel(\"Epoch\")\n",
    "    plt.ylabel(\"Root Mean Squared Error\")\n",
    "\n",
    "    plt.plot(epochs, rmse, label=\"Loss\")\n",
    "    plt.legend()\n",
    "    plt.show()"
   ]
  },
  {
   "cell_type": "markdown",
   "id": "cbdfc7f1",
   "metadata": {},
   "source": [
    "> #### Define the dataset\n",
    "\n",
    "+ The dataset consists of 12 examples<br><br>\n",
    "+ Each example consists of one feature and one label"
   ]
  },
  {
   "cell_type": "code",
   "execution_count": 75,
   "id": "bce79530",
   "metadata": {},
   "outputs": [],
   "source": [
    "my_features = np.array([1.0, 2.0,  3.0, 4.0, 5.0,  6.0, 7.0,  8.0,  9.0,\n",
    "                        10.0, 11.0, 12.0])\n",
    "\n",
    "my_features = torch.tensor(my_features).unsqueeze(dim=1).type(torch.float32)\n",
    "\n",
    "my_labels = torch.tensor(np.array([5.0, 8.8,  9.6, 14.2, 18.8, 19.5, 21.4,\n",
    "                                  26.8, 28.9, 32.0, 33.8,\n",
    "                                   38.2])).unsqueeze(dim=1).type(torch.float32)"
   ]
  },
  {
   "cell_type": "markdown",
   "id": "29c92fa9",
   "metadata": {},
   "source": [
    "> #### Specifying the hyperparameters\n",
    "+ We'll specify the following hyperparameters:\n",
    "    + learning rate\n",
    "    + epochs\n",
    "    + batch_size"
   ]
  },
  {
   "cell_type": "markdown",
   "id": "3ae34bf2",
   "metadata": {},
   "source": [
    "> ## Summary of hyperparameter tuning\n",
    "+ Most machine learning problems require a lot of hyperparameter tuning. Unfortunately, we can't provide concrete tuning rules for every model<br><br>\n",
    "+ Lowering the learning rate can help one model converge efficiently but make another model converge much too slowly. We must experiment to find the best set of hyperparameters for our dataset. That said, here are a few rules of thumb:\n",
    "    + Training loss should steadily decrease, steeply at first, and then more slowly until the slope of the curve reaches or approaches zero<br><br>\n",
    "    + If the training loss does not converge, train for more epochs<br><br>\n",
    "    + If the training loss decreases too slowly, increase the learning rate. Note that setting the learning rate too high may also prevent training loss from converging<br><br>\n",
    "    + If the training loss varies wildly (that is, the training loss jumps around), decrease the learning rate<br><br>\n",
    "    + Lowering the learning rate while increasing the number of epochs or the batch size is often a good combination<br><br>\n",
    "    + Setting the batch size to a very small batch number can also cause instability. First, try large batch size values. Then, decrease the batch size until you see degradation<br><br>\n",
    "    + For real-world datasets consisting of a very large number of examples, the entire dataset might not fit into memory. In such cases, you'll need to reduce the batch size to enable a batch to fit into memory<br><br>\n",
    "\n",
    "> **Remember:** the ideal combination of hyperparameters is data dependent, so you must always experiment and verify."
   ]
  },
  {
   "cell_type": "markdown",
   "id": "d0d76009",
   "metadata": {},
   "source": [
    "> #### PyTorch implementation of `build_model()` and `train_model()` functions"
   ]
  },
  {
   "cell_type": "code",
   "execution_count": 123,
   "id": "7be2ee8b",
   "metadata": {},
   "outputs": [],
   "source": [
    "class LinearRegression(nn.Module):\n",
    "    def __init__(self):\n",
    "        super().__init__()\n",
    "                \n",
    "        self.linear = nn.Linear(in_features=1, out_features=1)\n",
    "\n",
    "    def forward(self, x):\n",
    "        return self.linear(x)"
   ]
  },
  {
   "cell_type": "code",
   "execution_count": 124,
   "id": "2332093f",
   "metadata": {},
   "outputs": [],
   "source": [
    "def build_model(my_learning_rate):\n",
    "    model = LinearRegression()\n",
    "    loss_fn = nn.MSELoss()\n",
    "    \n",
    "    optimizer = optim.RMSprop(model.parameters(), lr=my_learning_rate)\n",
    "    return model, loss_fn, optimizer"
   ]
  },
  {
   "cell_type": "code",
   "execution_count": 125,
   "id": "a8bf38b5",
   "metadata": {},
   "outputs": [],
   "source": [
    "def train_model(model, loss_fn, optimizer, feature_tensor, label_tensor,\n",
    "                     epochs, batch_size):\n",
    "\n",
    "    epochs_list = []\n",
    "    loss_list = []\n",
    "    \n",
    "    dataset = torch.utils.data.TensorDataset(feature_tensor, label_tensor)\n",
    "    \n",
    "    dataloader = torch.utils.data.DataLoader(dataset, batch_size=batch_size, shuffle=True)\n",
    "    \n",
    "    for epoch in range(epochs):\n",
    "        \n",
    "        for batch_feature, batch_label in dataloader:\n",
    "        \n",
    "            optimizer.zero_grad()\n",
    "            \n",
    "            outputs = model(batch_feature)\n",
    "            \n",
    "            loss = loss_fn(outputs, batch_label)            \n",
    "        \n",
    "            loss.backward()\n",
    "            \n",
    "            optimizer.step()\n",
    "            \n",
    "            epochs_list.append(epoch)\n",
    "            loss_list.append(loss.detach().numpy())\n",
    "            \n",
    "\n",
    "    trained_weight = model.linear.weight.item()\n",
    "    trained_bias = model.linear.bias.item()\n",
    "    return trained_weight, trained_bias, epochs_list, loss_list"
   ]
  },
  {
   "cell_type": "markdown",
   "id": "accfaccb",
   "metadata": {},
   "source": [
    "> We can experiment with different hyperparameters<br><br>"
   ]
  },
  {
   "cell_type": "code",
   "execution_count": 126,
   "id": "98547cd6",
   "metadata": {},
   "outputs": [],
   "source": [
    "learning_rate=0.14\n",
    "epochs=70\n",
    "batch_size=12\n",
    "\n",
    "model, loss, optimizer = build_model(learning_rate)"
   ]
  },
  {
   "cell_type": "code",
   "execution_count": 127,
   "id": "184b697c",
   "metadata": {},
   "outputs": [],
   "source": [
    "trained_weight, trained_bias, epochs_list, loss_list = train_model(model, loss,\n",
    "                                                                        optimizer,\n",
    "                                                                        my_features,\n",
    "                                                                        my_labels,\n",
    "                                                                        epochs,\n",
    "                                                                        batch_size)"
   ]
  },
  {
   "cell_type": "code",
   "execution_count": 128,
   "id": "ba491d42",
   "metadata": {},
   "outputs": [
    {
     "data": {
      "image/png": "[encoded data removed]",
      "text/plain": [
       "<Figure size 640x480 with 1 Axes>"
      ]
     },
     "metadata": {},
     "output_type": "display_data"
    }
   ],
   "source": [
    "plot_the_model(trained_weight, trained_bias,\n",
    "               my_features.detach().numpy()[:, 0],\n",
    "               my_labels.detach().numpy()[:, 0])"
   ]
  },
  {
   "cell_type": "code",
   "execution_count": 129,
   "id": "c038d941",
   "metadata": {},
   "outputs": [
    {
     "data": {
      "image/png": "[encoded data removed]",
      "text/plain": [
       "<Figure size 640x480 with 1 Axes>"
      ]
     },
     "metadata": {},
     "output_type": "display_data"
    }
   ],
   "source": [
    "plot_the_loss_curve(epochs_list, loss_list)"
   ]
  }
 ],
 "metadata": {
  "kernelspec": {
   "display_name": "Python 3 (ipykernel)",
   "language": "python",
   "name": "python3"
  },
  "language_info": {
   "codemirror_mode": {
    "name": "ipython",
    "version": 3
   },
   "file_extension": ".py",
   "mimetype": "text/x-python",
   "name": "python",
   "nbconvert_exporter": "python",
   "pygments_lexer": "ipython3",
   "version": "3.9.19"
  }
 },
 "nbformat": 4,
 "nbformat_minor": 5
}
